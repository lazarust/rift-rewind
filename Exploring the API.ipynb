{
 "cells": [
  {
   "cell_type": "code",
   "execution_count": null,
   "id": "c315ba4a-a246-42d4-a59c-a61b137db1a9",
   "metadata": {},
   "outputs": [],
   "source": [
    "import requests\n",
    "import json\n",
    "\n",
    "session = requests.Session()\n",
    "session.headers.update({\n",
    "    \"X-Riot-Token\": \"\"\n",
    "})\n",
    "\n",
    "summoner_name = \"\"\n",
    "summoner_tagline = \"\""
   ]
  },
  {
   "cell_type": "code",
   "execution_count": null,
   "id": "6a9d0df7-7619-4917-8ccb-481697db26b6",
   "metadata": {},
   "outputs": [],
   "source": [
    "base_url = \"https://americas.api.riotgames.com\""
   ]
  },
  {
   "cell_type": "code",
   "execution_count": null,
   "id": "bb1c9d3f-9eb2-4189-a0f1-6ac8159e8cf7",
   "metadata": {},
   "outputs": [],
   "source": [
    "url = f\"{base_url}/riot/account/v1/accounts/by-riot-id/{summoner_name}/{summoner_tagline}\"\n",
    "resp = session.get(url)"
   ]
  },
  {
   "cell_type": "code",
   "execution_count": null,
   "id": "2b08f721-46f6-45bb-b136-4bbbaad2f7af",
   "metadata": {},
   "outputs": [],
   "source": [
    "resp"
   ]
  },
  {
   "cell_type": "code",
   "execution_count": null,
   "id": "81cdea93-9abd-49a4-9c77-71ab07043ba2",
   "metadata": {},
   "outputs": [],
   "source": [
    "resp.content"
   ]
  },
  {
   "cell_type": "code",
   "execution_count": null,
   "id": "4095fa2c-f51b-4d82-b1aa-4503b2ac8662",
   "metadata": {},
   "outputs": [],
   "source": [
    "puuid = json.loads(resp.content)[\"puuid\"]"
   ]
  },
  {
   "cell_type": "code",
   "execution_count": null,
   "id": "7207aadb-ec87-405d-8f2e-44ec4656ba1b",
   "metadata": {},
   "outputs": [],
   "source": [
    "puuid"
   ]
  },
  {
   "cell_type": "code",
   "execution_count": null,
   "id": "17d798ee-8d5e-4d0c-97bd-99610502d684",
   "metadata": {},
   "outputs": [],
   "source": [
    "url = f\"{base_url}/lol/match/v5/matches/by-puuid/{puuid}/ids\"\n",
    "resp = session.get(url)"
   ]
  },
  {
   "cell_type": "code",
   "execution_count": null,
   "id": "38d4d08a-040c-4c9f-b820-847485f5e0e3",
   "metadata": {},
   "outputs": [],
   "source": [
    "resp"
   ]
  },
  {
   "cell_type": "code",
   "execution_count": null,
   "id": "2165277e-7de1-40ef-bbad-5bbd2a0c1526",
   "metadata": {},
   "outputs": [],
   "source": [
    "resp.content"
   ]
  },
  {
   "cell_type": "code",
   "execution_count": null,
   "id": "e4c5431d-c13f-4041-b518-ba3100de87f6",
   "metadata": {},
   "outputs": [],
   "source": [
    "match_ids = json.loads(resp.content)"
   ]
  },
  {
   "cell_type": "code",
   "execution_count": null,
   "id": "cb2f143c-7696-415e-87b4-1f456768899f",
   "metadata": {},
   "outputs": [],
   "source": [
    "match_ids"
   ]
  },
  {
   "cell_type": "code",
   "execution_count": null,
   "id": "5b2e208d-af86-4a62-b570-b2e5d0d96e5e",
   "metadata": {},
   "outputs": [],
   "source": [
    "match_data = {}\n",
    "for match_id in match_ids:\n",
    "    url = f\"{base_url}/lol/match/v5/matches/{match_id}\"\n",
    "    match_data[match_id] = json.loads(session.get(url).content)"
   ]
  },
  {
   "cell_type": "code",
   "execution_count": null,
   "id": "71d00c6d-5c66-4b94-b2a7-285cc8f5eb5a",
   "metadata": {},
   "outputs": [],
   "source": [
    "match_data"
   ]
  },
  {
   "cell_type": "code",
   "execution_count": null,
   "id": "43fa4760-398e-44e3-852f-24f8a8bcad1e",
   "metadata": {},
   "outputs": [],
   "source": [
    "match_timelines = {}\n",
    "for match_id in match_ids:\n",
    "    url = f\"{base_url}/lol/match/v5/matches/{match_id}/timeline\"\n",
    "    match_timelines[match_id] = json.loads(session.get(url).content)"
   ]
  },
  {
   "cell_type": "code",
   "execution_count": null,
   "id": "5a5ab541-c668-42b9-ae20-c1f4ee3be0c1",
   "metadata": {},
   "outputs": [],
   "source": [
    "match_timelines"
   ]
  }
 ],
 "metadata": {
  "kernelspec": {
   "display_name": "Python 3 (ipykernel)",
   "language": "python",
   "name": "python3"
  },
  "language_info": {
   "codemirror_mode": {
    "name": "ipython",
    "version": 3
   },
   "file_extension": ".py",
   "mimetype": "text/x-python",
   "name": "python",
   "nbconvert_exporter": "python",
   "pygments_lexer": "ipython3",
   "version": "3.13.7"
  }
 },
 "nbformat": 4,
 "nbformat_minor": 5
}
